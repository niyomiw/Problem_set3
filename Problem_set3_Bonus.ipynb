{
 "cells": [
  {
   "cell_type": "markdown",
   "metadata": {},
   "source": [
    "Extra Credit Q:"
   ]
  },
  {
   "cell_type": "code",
   "execution_count": 25,
   "metadata": {},
   "outputs": [
    {
     "ename": "IndentationError",
     "evalue": "unexpected unindent (<ipython-input-25-bf4ba59f0df1>, line 41)",
     "output_type": "error",
     "traceback": [
      "\u001b[0;36m  File \u001b[0;32m\"<ipython-input-25-bf4ba59f0df1>\"\u001b[0;36m, line \u001b[0;32m41\u001b[0m\n\u001b[0;31m    df_weather = (get_weather(locationid, datasetid, begin_date, end_date, base_url_data))\u001b[0m\n\u001b[0m                                                                                          ^\u001b[0m\n\u001b[0;31mIndentationError\u001b[0m\u001b[0;31m:\u001b[0m unexpected unindent\n"
     ]
    }
   ],
   "source": [
    "#import statements\n",
    "import requests\n",
    "import datetime\n",
    "import numpy as np\n",
    "import pandas as pd\n",
    "import os\n",
    "import sys\n",
    "\n",
    "#Use the datetime package to get curent data\n",
    "thisyear = datetime.datetime.now()-datetime.timedelta(days=365)\n",
    "\n",
    "#Use the same begin and end date for just one day's data. Format for the API request\n",
    "begin_date = thisyear.strftime(\"%Y-%m-%d\")\n",
    "end_date = thisyear.strftime(\"%Y-%m-%d\")\n",
    "\n",
    "#Location key for the Panama City\n",
    "locationid = '8729108' #location id for Panama City\n",
    "datasetid = 'GHCND' #datset id for \"Daily Summaries\"\n",
    "\n",
    "base_url_data = 'https://www.ncdc.noaa.gov/cdo-web/api/v2/data'\n",
    "base_url_stations = 'https://www.ncdc.noaa.gov/cdo-web/api/v2/stations'\n",
    "\n",
    "def get_weather(locationid, datasetid, begin_date, end_date, base_url):\n",
    "    #token = ('token': my_token)\n",
    "\n",
    "    #passing as string instead of dict \n",
    "    params = 'datasetid='+str(datasetid)+'&'+'locationid='+str(locationid)+'&'+'startdate='+str(begin_date)+'&'+'enddate='+str(end_date)+'&'+'limit=25'+'&'+'units=standard'\n",
    "    \n",
    "    r = requests.get(base_url, params = params) #headers=token)\n",
    "    print(\"Request status code: \"+str(r.status_code))\n",
    "\n",
    "    try:\n",
    "        #results comes in json form. Convert to dataframe\n",
    "        df = pd.DataFrame.from_dict(r.json()['results'])\n",
    "        print(\"Successfully retrieved \"+str(len(df['station'].unique()))+\" stations\")\n",
    "        dates = pd.to_datetime(df['date'])\n",
    "        print(\"Last date retrieved: \"+str(dates.iloc[-1]))\n",
    "\n",
    "        return df\n",
    "df_weather = (get_weather(locationid, datasetid, begin_date, end_date, base_url_data))\n",
    "df_weather.head()\n",
    "\n",
    "\n",
    "\n"
   ]
  },
  {
   "cell_type": "code",
   "execution_count": null,
   "metadata": {},
   "outputs": [],
   "source": []
  },
  {
   "cell_type": "code",
   "execution_count": null,
   "metadata": {},
   "outputs": [],
   "source": []
  }
 ],
 "metadata": {
  "kernelspec": {
   "display_name": "Python 3",
   "language": "python",
   "name": "python3"
  },
  "language_info": {
   "codemirror_mode": {
    "name": "ipython",
    "version": 3
   },
   "file_extension": ".py",
   "mimetype": "text/x-python",
   "name": "python",
   "nbconvert_exporter": "python",
   "pygments_lexer": "ipython3",
   "version": "3.6.5"
  }
 },
 "nbformat": 4,
 "nbformat_minor": 2
}
