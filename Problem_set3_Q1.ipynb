{
 "cells": [
  {
   "cell_type": "markdown",
   "metadata": {},
   "source": [
    "# Problem set 3 Answers "
   ]
  },
  {
   "cell_type": "markdown",
   "metadata": {},
   "source": [
    "Question 1:"
   ]
  },
  {
   "cell_type": "code",
   "execution_count": 6,
   "metadata": {},
   "outputs": [
    {
     "name": "stdout",
     "output_type": "stream",
     "text": [
      "2018-10-10 18:06\n",
      "6.647\n"
     ]
    }
   ],
   "source": [
    "#!/usr/bin/env python3\n",
    "import csv\n",
    "with open('anaconda3/CO-OPS__8729108__wl.csv') as f:\n",
    "    reader = csv.reader(f)\n",
    "    next(reader) # skip header\n",
    "    data = []\n",
    "    dct = {}\n",
    "\n",
    "    for column in reader:\n",
    "        date_time = column[0] \n",
    "        w_level= column[1]\n",
    "        dct[date_time]=w_level\n",
    "        dct[w_level]=date_time\n",
    "        \n",
    "print(max(dct,key=dct.get))\n",
    "print(max(dct))\n"
   ]
  }
 ],
 "metadata": {
  "kernelspec": {
   "display_name": "Python 3",
   "language": "python",
   "name": "python3"
  },
  "language_info": {
   "codemirror_mode": {
    "name": "ipython",
    "version": 3
   },
   "file_extension": ".py",
   "mimetype": "text/x-python",
   "name": "python",
   "nbconvert_exporter": "python",
   "pygments_lexer": "ipython3",
   "version": "3.6.5"
  }
 },
 "nbformat": 4,
 "nbformat_minor": 2
}
