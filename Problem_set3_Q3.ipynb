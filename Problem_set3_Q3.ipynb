{
 "cells": [
  {
   "cell_type": "markdown",
   "metadata": {},
   "source": [
    "Question 3:"
   ]
  },
  {
   "cell_type": "code",
   "execution_count": 126,
   "metadata": {},
   "outputs": [
    {
     "data": {
      "text/html": [
       "<div>\n",
       "<style scoped>\n",
       "    .dataframe tbody tr th:only-of-type {\n",
       "        vertical-align: middle;\n",
       "    }\n",
       "\n",
       "    .dataframe tbody tr th {\n",
       "        vertical-align: top;\n",
       "    }\n",
       "\n",
       "    .dataframe thead th {\n",
       "        text-align: right;\n",
       "    }\n",
       "</style>\n",
       "<table border=\"1\" class=\"dataframe\">\n",
       "  <thead>\n",
       "    <tr style=\"text-align: right;\">\n",
       "      <th></th>\n",
       "      <th>DateTime</th>\n",
       "      <th>WaterLevel</th>\n",
       "      <th>diff</th>\n",
       "    </tr>\n",
       "  </thead>\n",
       "  <tbody>\n",
       "    <tr>\n",
       "      <th>425</th>\n",
       "      <td>2018-10-10 18:30</td>\n",
       "      <td>6.024</td>\n",
       "      <td>0.299</td>\n",
       "    </tr>\n",
       "  </tbody>\n",
       "</table>\n",
       "</div>"
      ],
      "text/plain": [
       "             DateTime  WaterLevel   diff\n",
       "425  2018-10-10 18:30       6.024  0.299"
      ]
     },
     "execution_count": 126,
     "metadata": {},
     "output_type": "execute_result"
    }
   ],
   "source": [
    "#!/usr/bin/env python3\n",
    "\n",
    "import pandas as pd\n",
    "import re\n",
    "import csv\n",
    "with open('anaconda3/CO-OPS__8729108__wl.csv') as f:\n",
    "    reader = csv.reader(f)\n",
    "    next(reader) # skip header\n",
    "    data = []\n",
    "    \n",
    "new_names= ['DateTime','WaterLevel','Sigma', 'O','F','R','L','Quality']    \n",
    "df=pd.read_csv('anaconda3/CO-OPS__8729108__wl.csv', skiprows=1, sep=\",\", names=new_names)\n",
    "del df['Sigma']# deleting unwanted columns\n",
    "del df['O']# deleting unwanted columns\n",
    "del df['F']# deleting unwanted columns\n",
    "del df['R']# deleting unwanted columns\n",
    "del df['L']# deleting unwanted columns\n",
    "del df['Quality']# deleting unwanted columns\n",
    "df['diff'] = df.groupby('DateTime')['WaterLevel'].diff() #grouping date/time and waterlevel columns and creating another column with the difference in water level \n",
    "if (df['WaterLevel'].diff(-1) > 0).any(): #calculating water level difference row by row\n",
    "    df['diff'] = df['WaterLevel'].diff(-1)\n",
    "df[df['diff']==df['diff'].max()] #printing the row with the max water level difference along with date/time  \n",
    "\n",
    "   \n"
   ]
  },
  {
   "cell_type": "code",
   "execution_count": null,
   "metadata": {},
   "outputs": [],
   "source": []
  },
  {
   "cell_type": "code",
   "execution_count": null,
   "metadata": {},
   "outputs": [],
   "source": []
  }
 ],
 "metadata": {
  "kernelspec": {
   "display_name": "Python 3",
   "language": "python",
   "name": "python3"
  },
  "language_info": {
   "codemirror_mode": {
    "name": "ipython",
    "version": 3
   },
   "file_extension": ".py",
   "mimetype": "text/x-python",
   "name": "python",
   "nbconvert_exporter": "python",
   "pygments_lexer": "ipython3",
   "version": "3.6.5"
  }
 },
 "nbformat": 4,
 "nbformat_minor": 2
}
